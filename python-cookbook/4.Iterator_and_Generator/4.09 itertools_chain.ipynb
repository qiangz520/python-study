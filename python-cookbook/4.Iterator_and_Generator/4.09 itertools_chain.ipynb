{
 "cells": [
  {
   "cell_type": "markdown",
   "metadata": {},
   "source": [
    "# 不同集合上元素的迭代"
   ]
  },
  {
   "cell_type": "markdown",
   "metadata": {},
   "source": [
    "* 在多个对象执行相同的操作，但是这些对象在不同的容器中,在不失可读性的情况下避免写重复的循环。可用`itertools.chain(*iters)`。\n",
    "> itertools.chain() 接受一个或多个可迭代对象作为输入参数。 然后创建一个迭代器，依次连续的返回每个可迭代对象中的元素。"
   ]
  },
  {
   "cell_type": "code",
   "execution_count": 1,
   "metadata": {},
   "outputs": [
    {
     "name": "stdout",
     "output_type": "stream",
     "text": [
      "p\n",
      "y\n",
      "t\n",
      "h\n",
      "o\n",
      "n\n",
      "5\n",
      "2\n",
      "0\n"
     ]
    }
   ],
   "source": [
    "from itertools import chain\n",
    "a = ['p','y','t','h','o','n']\n",
    "b = [5,2,0]\n",
    "def process(i):\n",
    "    print(i)\n",
    "    \n",
    "for i in chain(a,b):\n",
    "    process(i)"
   ]
  },
  {
   "cell_type": "markdown",
   "metadata": {},
   "source": [
    "* a + b 操作会创建一个全新的序列并要求a和b的类型一致。\n",
    "* `chian()` 不会有这一步，所以如果输入序列非常大的时候会很省内存。 并且当可迭代对象类型不一样的时候 `chain()` 同样可以很好的工作。\n",
    "\n",
    "``` python\n",
    "#Inefficent\n",
    "for x in a + b:\n",
    "    ...\n",
    "\n",
    "#Better\n",
    "for x in chain(a, b):\n",
    "    ...\n",
    "```"
   ]
  }
 ],
 "metadata": {
  "kernelspec": {
   "display_name": "Python 3",
   "language": "python",
   "name": "python3"
  },
  "language_info": {
   "codemirror_mode": {
    "name": "ipython",
    "version": 3
   },
   "file_extension": ".py",
   "mimetype": "text/x-python",
   "name": "python",
   "nbconvert_exporter": "python",
   "pygments_lexer": "ipython3",
   "version": "3.7.3"
  }
 },
 "nbformat": 4,
 "nbformat_minor": 2
}
