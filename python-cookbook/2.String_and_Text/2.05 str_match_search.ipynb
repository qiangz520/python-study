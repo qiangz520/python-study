{
 "cells": [
  {
   "cell_type": "markdown",
   "metadata": {},
   "source": [
    "### 想匹配或者搜索特定模式的文本\n",
    "#### 匹配字面字符串\n",
    "* str.startswith()\n",
    "* str.endswith()\n",
    "* str.find(): Search for the location of the first occurrence"
   ]
  },
  {
   "cell_type": "code",
   "execution_count": 1,
   "metadata": {},
   "outputs": [
    {
     "data": {
      "text/plain": [
       "14"
      ]
     },
     "execution_count": 1,
     "metadata": {},
     "output_type": "execute_result"
    }
   ],
   "source": [
    "str = 'I love python how about you'\n",
    "str.find('how')"
   ]
  },
  {
   "cell_type": "markdown",
   "metadata": {},
   "source": [
    "#### 复杂的匹配需要使用正则表达式和 re 模块。\n",
    "#### 使用re模块进行匹配和搜索文本的最基本方法。 \n",
    "* 核心步骤就是先使用 `re.compile()` 编译正则表达式字符串 \n",
    "将正则表达式的样式编译为一个 正则表达式对象 （Pattern），可以用于匹配\n",
    "\n",
    "* 然后使用Pattern的`match()` , `findall()` 或者 `finditer()` 等方法。"
   ]
  },
  {
   "cell_type": "code",
   "execution_count": 2,
   "metadata": {},
   "outputs": [
    {
     "name": "stdout",
     "output_type": "stream",
     "text": [
      "yes\n"
     ]
    }
   ],
   "source": [
    "import re\n",
    "text1 = '7/24/2019'\n",
    "text2 = 'Jul 24, 2019'\n",
    "# Simple matching: \\d+ means match one or more digits\n",
    "date_pattern = re.compile(r'\\d+/\\d+/\\d+')\n",
    "result = date_pattern.match(text1)\n",
    "if result:\n",
    "    print('yes')\n",
    "else:\n",
    "    print('no')"
   ]
  },
  {
   "cell_type": "markdown",
   "metadata": {},
   "source": [
    "match() 总是**从字符串开始去匹配**，如果你想查找字符串任意部分的模式出现位置， 使用 findall() 方法去代替。如果开始位置匹配不成功，返回None."
   ]
  },
  {
   "cell_type": "code",
   "execution_count": 3,
   "metadata": {},
   "outputs": [
    {
     "name": "stdout",
     "output_type": "stream",
     "text": [
      "no\n"
     ]
    }
   ],
   "source": [
    "text3 = 'Today is 7/24/2019'\n",
    "result = date_pattern.match(text3)\n",
    "if result:\n",
    "    print('yes')\n",
    "else:\n",
    "    print('no')\n"
   ]
  },
  {
   "cell_type": "markdown",
   "metadata": {},
   "source": [
    "* `re.findall(pattern, string, flags=0)`:对 string 返回一个匹配列表"
   ]
  },
  {
   "cell_type": "code",
   "execution_count": 7,
   "metadata": {},
   "outputs": [
    {
     "data": {
      "text/plain": [
       "['7/24/2019', '9/20/2019', '7/24/2019']"
      ]
     },
     "execution_count": 7,
     "metadata": {},
     "output_type": "execute_result"
    }
   ],
   "source": [
    "text4 = 'Today is 7/24/2019,it is 9/20/2019, 7/24/2019'\n",
    "date_pattern.findall(text4)"
   ]
  },
  {
   "cell_type": "markdown",
   "metadata": {},
   "source": [
    "* `re.finditer(pattern, string, flags=0)`: pattern 在 string 里所有的非重复匹配，返回为一个迭代器 iterator 保存了 匹配对象 。 string 从左到右扫描，匹配按顺序排列。空匹配也包含在结果里。"
   ]
  },
  {
   "cell_type": "code",
   "execution_count": 8,
   "metadata": {},
   "outputs": [
    {
     "data": {
      "text/plain": [
       "<callable_iterator at 0x1bde48905f8>"
      ]
     },
     "execution_count": 8,
     "metadata": {},
     "output_type": "execute_result"
    }
   ],
   "source": [
    "date_pattern.finditer(text4)"
   ]
  },
  {
   "cell_type": "code",
   "execution_count": 9,
   "metadata": {},
   "outputs": [
    {
     "data": {
      "text/plain": [
       "['7/24/2019', '9/20/2019', '7/24/2019']"
      ]
     },
     "execution_count": 9,
     "metadata": {},
     "output_type": "execute_result"
    }
   ],
   "source": [
    "[date.group() for date in date_pattern.finditer(text4)]"
   ]
  },
  {
   "cell_type": "markdown",
   "metadata": {},
   "source": [
    "#### 捕获分组\n",
    "* Match.group()\n",
    "    - m.group(0) # The entire match\n",
    "    - m.group(1) # The first parenthesized subgroup.\n",
    "    - m.group(2) # The second parenthesized subgroup.\n",
    "    - m.group(1,2)  # Multiple arguments give us a tuple.\n",
    "* Match.groups():返回一个元组，包含所有匹配的子组，在样式中出现的从1到任意多的组合。 \n",
    "    "
   ]
  },
  {
   "cell_type": "code",
   "execution_count": 11,
   "metadata": {},
   "outputs": [],
   "source": [
    "p = re.compile(r'(\\d+)/(\\d+)/(\\d+)')\n",
    "m = p.match(text1)"
   ]
  },
  {
   "cell_type": "code",
   "execution_count": 12,
   "metadata": {},
   "outputs": [
    {
     "data": {
      "text/plain": [
       "'7/24/2019'"
      ]
     },
     "execution_count": 12,
     "metadata": {},
     "output_type": "execute_result"
    }
   ],
   "source": [
    "m.group()"
   ]
  },
  {
   "cell_type": "code",
   "execution_count": 15,
   "metadata": {},
   "outputs": [
    {
     "data": {
      "text/plain": [
       "['7/24/2019', '7', '24', '2019']"
      ]
     },
     "execution_count": 15,
     "metadata": {},
     "output_type": "execute_result"
    }
   ],
   "source": [
    "[m.group(i) for i in range(4)]"
   ]
  },
  {
   "cell_type": "code",
   "execution_count": 16,
   "metadata": {},
   "outputs": [
    {
     "data": {
      "text/plain": [
       "('7', '24', '2019')"
      ]
     },
     "execution_count": 16,
     "metadata": {},
     "output_type": "execute_result"
    }
   ],
   "source": [
    "m.groups()"
   ]
  },
  {
   "cell_type": "code",
   "execution_count": 17,
   "metadata": {},
   "outputs": [],
   "source": [
    "month, day, year = m.groups()"
   ]
  },
  {
   "cell_type": "markdown",
   "metadata": {},
   "source": [
    "如果你想精确匹配，确保你的正则表达式以$结尾"
   ]
  }
 ],
 "metadata": {
  "kernelspec": {
   "display_name": "Python 3",
   "language": "python",
   "name": "python3"
  },
  "language_info": {
   "codemirror_mode": {
    "name": "ipython",
    "version": 3
   },
   "file_extension": ".py",
   "mimetype": "text/x-python",
   "name": "python",
   "nbconvert_exporter": "python",
   "pygments_lexer": "ipython3",
   "version": "3.7.3"
  }
 },
 "nbformat": 4,
 "nbformat_minor": 2
}
