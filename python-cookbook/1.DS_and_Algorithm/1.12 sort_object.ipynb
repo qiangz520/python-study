{
 "cells": [
  {
   "cell_type": "markdown",
   "metadata": {},
   "source": [
    "## 排序不支持原生比较的对象"
   ]
  },
  {
   "cell_type": "code",
   "execution_count": 1,
   "metadata": {},
   "outputs": [
    {
     "data": {
      "text/plain": [
       "[This is student 9, This is student 56, This is student 1]"
      ]
     },
     "execution_count": 1,
     "metadata": {},
     "output_type": "execute_result"
    }
   ],
   "source": [
    "class Student:\n",
    "    def __init__(self, stu_id):\n",
    "        self.stu_id = stu_id\n",
    "    def __repr__(self):\n",
    "        return 'This is student {}'.format(self.stu_id)\n",
    "\n",
    "students = [Student(9), Student(56), Student(1)]\n",
    "students"
   ]
  },
  {
   "cell_type": "code",
   "execution_count": 2,
   "metadata": {},
   "outputs": [
    {
     "data": {
      "text/plain": [
       "[This is student 1, This is student 9, This is student 56]"
      ]
     },
     "execution_count": 2,
     "metadata": {},
     "output_type": "execute_result"
    }
   ],
   "source": [
    "sorted(students, key=lambda s:s.stu_id)"
   ]
  },
  {
   "cell_type": "markdown",
   "metadata": {},
   "source": [
    "### sorted 有返回值，返回排序后的列表，原来的列表不变"
   ]
  },
  {
   "cell_type": "code",
   "execution_count": 3,
   "metadata": {},
   "outputs": [
    {
     "data": {
      "text/plain": [
       "[This is student 9, This is student 56, This is student 1]"
      ]
     },
     "execution_count": 3,
     "metadata": {},
     "output_type": "execute_result"
    }
   ],
   "source": [
    "students"
   ]
  },
  {
   "cell_type": "code",
   "execution_count": 4,
   "metadata": {},
   "outputs": [
    {
     "name": "stdout",
     "output_type": "stream",
     "text": [
      "This is student 9\n"
     ]
    }
   ],
   "source": [
    "print(repr(Student(9)))"
   ]
  },
  {
   "cell_type": "markdown",
   "metadata": {},
   "source": [
    "### python 类定义的方法中__str__()和__repr__()的比较\n",
    "* _str_用于为最终用户创建输出\n",
    "* 而 _repr_ 主要用于调试和开发，面向程序员，声明对象的时候默认调用生成字符串。"
   ]
  },
  {
   "cell_type": "code",
   "execution_count": 5,
   "metadata": {},
   "outputs": [
    {
     "data": {
      "text/plain": [
       "[Repr: student 9, Repr: student 56, Repr: student 1]"
      ]
     },
     "execution_count": 5,
     "metadata": {},
     "output_type": "execute_result"
    }
   ],
   "source": [
    "class Student:\n",
    "    def __init__(self, stu_id):\n",
    "        self.stu_id = stu_id\n",
    "    def __str__(self):\n",
    "        return 'Str: student {}'.format(self.stu_id)\n",
    "    def __repr__(self):\n",
    "        return 'Repr: student {}'.format(self.stu_id)\n",
    "\n",
    "students = [Student(9), Student(56), Student(1)]\n",
    "students"
   ]
  },
  {
   "cell_type": "code",
   "execution_count": 7,
   "metadata": {},
   "outputs": [
    {
     "data": {
      "text/plain": [
       "'Str: student 9'"
      ]
     },
     "execution_count": 7,
     "metadata": {},
     "output_type": "execute_result"
    }
   ],
   "source": [
    "str(Student(9))"
   ]
  },
  {
   "cell_type": "markdown",
   "metadata": {},
   "source": [
    "str和repr均不声明"
   ]
  },
  {
   "cell_type": "code",
   "execution_count": 8,
   "metadata": {},
   "outputs": [
    {
     "data": {
      "text/plain": [
       "[<__main__.Student at 0x2233726cf28>,\n",
       " <__main__.Student at 0x2233730e4a8>,\n",
       " <__main__.Student at 0x2233730e5f8>]"
      ]
     },
     "execution_count": 8,
     "metadata": {},
     "output_type": "execute_result"
    }
   ],
   "source": [
    "class Student:\n",
    "    def __init__(self, stu_id):\n",
    "        self.stu_id = stu_id\n",
    "students = [Student(9), Student(56), Student(1)]\n",
    "students"
   ]
  },
  {
   "cell_type": "markdown",
   "metadata": {},
   "source": [
    " 当仅定义 __repr__ 的时候， __repr__ == __str__, 但是仅定义 __str__ 的情况下，两者不相等"
   ]
  }
 ],
 "metadata": {
  "kernelspec": {
   "display_name": "Python 3",
   "language": "python",
   "name": "python3"
  },
  "language_info": {
   "codemirror_mode": {
    "name": "ipython",
    "version": 3
   },
   "file_extension": ".py",
   "mimetype": "text/x-python",
   "name": "python",
   "nbconvert_exporter": "python",
   "pygments_lexer": "ipython3",
   "version": "3.7.3"
  }
 },
 "nbformat": 4,
 "nbformat_minor": 2
}
