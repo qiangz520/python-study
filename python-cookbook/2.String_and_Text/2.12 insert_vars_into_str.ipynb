{
 "cells": [
  {
   "cell_type": "markdown",
   "metadata": {},
   "source": [
    "### 字符串中插入变量\n",
    "* `format()` 方法"
   ]
  },
  {
   "cell_type": "code",
   "execution_count": 1,
   "metadata": {},
   "outputs": [
    {
     "data": {
      "text/plain": [
       "'qiang has 20 dollars'"
      ]
     },
     "execution_count": 1,
     "metadata": {},
     "output_type": "execute_result"
    }
   ],
   "source": [
    "s = '{name} has {number} dollars'\n",
    "s.format(name='qiang',number=20)"
   ]
  },
  {
   "cell_type": "markdown",
   "metadata": {},
   "source": [
    "* `format_map()`和`var()`\n",
    "> vars() 函数返回对象object的属性和属性值的字典对象。"
   ]
  },
  {
   "cell_type": "code",
   "execution_count": 7,
   "metadata": {},
   "outputs": [
    {
     "name": "stdout",
     "output_type": "stream",
     "text": [
      "{'__name__': '__main__', '__doc__': 'Automatically created module for IPython interactive environment', '__package__': None, '__loader__': None, '__spec__': None, '__builtin__': <module 'builtins' (built-in)>, '__builtins__': <module 'builtins' (built-in)>, '_ih': ['', \"s = '{name} has {number} dollars'\\ns.format(name='qiang',number=20)\", \"name ='qiang'\\nnumber=20\\nprint(vars())\", 's.format(vars())', 's.format_map(vars())', \"name ='Aqiang'\\nnumber=400\\nprint(vars())\", 's.format_map(vars())', \"name ='qiang'\\nnumber=400\\nprint(vars())\"], '_oh': {1: 'qiang has 20 dollars', 4: 'qiang has 20 dollars', 6: 'Aqiang has 400 dollars'}, '_dh': ['C:\\\\Users\\\\qiang\\\\python-study\\\\python-cookbook\\\\2.String_and_Text'], 'In': ['', \"s = '{name} has {number} dollars'\\ns.format(name='qiang',number=20)\", \"name ='qiang'\\nnumber=20\\nprint(vars())\", 's.format(vars())', 's.format_map(vars())', \"name ='Aqiang'\\nnumber=400\\nprint(vars())\", 's.format_map(vars())', \"name ='qiang'\\nnumber=400\\nprint(vars())\"], 'Out': {1: 'qiang has 20 dollars', 4: 'qiang has 20 dollars', 6: 'Aqiang has 400 dollars'}, 'get_ipython': <bound method InteractiveShell.get_ipython of <ipykernel.zmqshell.ZMQInteractiveShell object at 0x000001DF2094A978>>, 'exit': <IPython.core.autocall.ZMQExitAutocall object at 0x000001DF23067828>, 'quit': <IPython.core.autocall.ZMQExitAutocall object at 0x000001DF23067828>, '_': 'Aqiang has 400 dollars', '__': 'qiang has 20 dollars', '___': 'qiang has 20 dollars', '_i': 's.format_map(vars())', '_ii': \"name ='Aqiang'\\nnumber=400\\nprint(vars())\", '_iii': 's.format_map(vars())', '_i1': \"s = '{name} has {number} dollars'\\ns.format(name='qiang',number=20)\", 's': '{name} has {number} dollars', '_1': 'qiang has 20 dollars', '_i2': \"name ='qiang'\\nnumber=20\\nprint(vars())\", 'name': 'qiang', 'number': 400, '_i3': 's.format(vars())', '_i4': 's.format_map(vars())', '_4': 'qiang has 20 dollars', '_i5': \"name ='Aqiang'\\nnumber=400\\nprint(vars())\", '_i6': 's.format_map(vars())', '_6': 'Aqiang has 400 dollars', '_i7': \"name ='qiang'\\nnumber=400\\nprint(vars())\"}\n"
     ]
    }
   ],
   "source": [
    "name ='qiang'\n",
    "number=400\n",
    "print(vars())"
   ]
  },
  {
   "cell_type": "code",
   "execution_count": 8,
   "metadata": {},
   "outputs": [
    {
     "data": {
      "text/plain": [
       "'qiang has 400 dollars'"
      ]
     },
     "execution_count": 8,
     "metadata": {},
     "output_type": "execute_result"
    }
   ],
   "source": [
    "s.format_map(vars())"
   ]
  },
  {
   "cell_type": "markdown",
   "metadata": {},
   "source": [
    "* vars() 还有一个有意思的特性就是它也适用于对象实例。"
   ]
  },
  {
   "cell_type": "code",
   "execution_count": 10,
   "metadata": {},
   "outputs": [
    {
     "data": {
      "text/plain": [
       "'He is 23'"
      ]
     },
     "execution_count": 10,
     "metadata": {},
     "output_type": "execute_result"
    }
   ],
   "source": [
    "class Person:\n",
    "    def __init__(self,name,age):\n",
    "        self.name = name\n",
    "        self.age = age\n",
    "p = Person('He',23)\n",
    "s1 = '{name} is {age}'\n",
    "s1.format_map(vars(p))"
   ]
  },
  {
   "cell_type": "markdown",
   "metadata": {},
   "source": [
    "* format 和 format_map() 的一个缺陷就是它们并不能很好的处理变量缺失的情况\n",
    "* 映射或者字典类中鲜为人知的 `__missing__()` 方法可以让你定义如何处理缺失的值。"
   ]
  },
  {
   "cell_type": "code",
   "execution_count": 13,
   "metadata": {},
   "outputs": [],
   "source": [
    "class safesub(dict):\n",
    "#防止key找不到\n",
    "    def __missing__(self, key):\n",
    "        return '{' + key + '}'\n",
    "name = 'Guido'\n",
    "n = 37\n",
    "s = '{name} has {n} messages.'"
   ]
  },
  {
   "cell_type": "code",
   "execution_count": 14,
   "metadata": {},
   "outputs": [
    {
     "ename": "NameError",
     "evalue": "name 'n' is not defined",
     "output_type": "error",
     "traceback": [
      "\u001b[1;31m---------------------------------------------------------------------------\u001b[0m",
      "\u001b[1;31mNameError\u001b[0m                                 Traceback (most recent call last)",
      "\u001b[1;32m<ipython-input-14-161e1cdb4dd0>\u001b[0m in \u001b[0;36m<module>\u001b[1;34m\u001b[0m\n\u001b[0;32m      1\u001b[0m \u001b[1;32mdel\u001b[0m \u001b[0mn\u001b[0m\u001b[1;33m\u001b[0m\u001b[1;33m\u001b[0m\u001b[0m\n\u001b[1;32m----> 2\u001b[1;33m \u001b[0mn\u001b[0m\u001b[1;33m\u001b[0m\u001b[1;33m\u001b[0m\u001b[0m\n\u001b[0m",
      "\u001b[1;31mNameError\u001b[0m: name 'n' is not defined"
     ]
    }
   ],
   "source": [
    "del n\n",
    "n"
   ]
  },
  {
   "cell_type": "code",
   "execution_count": 16,
   "metadata": {},
   "outputs": [
    {
     "data": {
      "text/plain": [
       "'Guido has {n} messages.'"
      ]
     },
     "execution_count": 16,
     "metadata": {},
     "output_type": "execute_result"
    }
   ],
   "source": [
    "s.format_map(safesub(vars()))"
   ]
  }
 ],
 "metadata": {
  "kernelspec": {
   "display_name": "Python 3",
   "language": "python",
   "name": "python3"
  },
  "language_info": {
   "codemirror_mode": {
    "name": "ipython",
    "version": 3
   },
   "file_extension": ".py",
   "mimetype": "text/x-python",
   "name": "python",
   "nbconvert_exporter": "python",
   "pygments_lexer": "ipython3",
   "version": "3.7.3"
  }
 },
 "nbformat": 4,
 "nbformat_minor": 2
}
